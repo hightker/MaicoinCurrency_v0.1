{
 "cells": [
  {
   "cell_type": "markdown",
   "metadata": {},
   "source": [
    "# Maicoin API 公開與非公開 feat.簡易查價&獲利率計算\n",
    "\n",
    "（每次要看買賣價都要登入實在很煩，寫個簡易程式記錄一下）\n",
    "    "
   ]
  },
  {
   "cell_type": "markdown",
   "metadata": {},
   "source": [
    "## 公開API\n",
    "\n",
    "Maicoin 預設只有公開BTC的API"
   ]
  },
  {
   "cell_type": "code",
   "execution_count": 3,
   "metadata": {
    "collapsed": false
   },
   "outputs": [
    {
     "name": "stdout",
     "output_type": "stream",
     "text": [
      "BTC:\n",
      "買價: 628327.69000 twd\n",
      "賣價: 532956.51000 twd\n"
     ]
    }
   ],
   "source": [
    "import requests\n",
    "#MAICOIN官方API\n",
    "response = requests.get(\"https://api.maicoin.com/v1/prices/twd\")\n",
    "#把resopnse的json轉為dictionary\n",
    "btc_dic = response.json()\n",
    "print(\"BTC:\")\n",
    "print(\"買價: \"+  btc_dic['buy_price']+\" \"+btc_dic['currency'])\n",
    "print(\"賣價: \"+  btc_dic['sell_price']+\" \"+btc_dic['currency'])\n",
    "\n",
    "\n",
    "    "
   ]
  },
  {
   "cell_type": "markdown",
   "metadata": {},
   "source": [
    "## 未公開API\n",
    "透過chrome可以看到它網站打的API，這裡可以找到\n",
    "\n",
    "1. [btc-twd](https://www.maicoin.com/api/prices/btc-twd)\n",
    "2. [eth-twd](https://www.maicoin.com/api/prices/eth-twd)\n",
    "3. [ltc-twd](https://www.maicoin.com/api/prices/ltc-twd)\n",
    "\n"
   ]
  },
  {
   "cell_type": "code",
   "execution_count": 4,
   "metadata": {
    "collapsed": false
   },
   "outputs": [
    {
     "name": "stdout",
     "output_type": "stream",
     "text": [
      "LTC:\n",
      "買價: 10698.509320 twd\n",
      "賣價: 8837.899000 twd\n",
      "賺： 7079.898999999999 twd\n",
      "獲利率：  402.724630261661 %\n",
      "ETH:\n",
      "買價: 24370.054270 twd\n",
      "賣價: 20131.783960 twd\n",
      "賺： 16393.611908589322 twd\n",
      "賺： 43856.47338143058 twd\n",
      "獲利率：  194.69847872433874 %\n",
      "獲利率：  137.05147931697056 %\n"
     ]
    }
   ],
   "source": [
    "#和前面不一樣的是，由於此API為非公開，需要仿造header才能讀到我們需要的\n",
    "headers = {'User-Agent': 'Mozilla/5.0 (Windows NT 10.0; Win64; x64) AppleWebKit/537.36 (KHTML, like Gecko) Chrome/62.0.3202.94 Safari/537.36'}\n",
    "#LTC\n",
    "response_ltc = requests.get(\"https://www.maicoin.com/api/prices/ltc-twd\" , headers = headers )\n",
    "ltc_dic=response_ltc.json()\n",
    "#ETH\n",
    "response_eth = requests.get(\"https://www.maicoin.com/api/prices/eth-twd\" , headers = headers )\n",
    "eth_dic=response_eth.json()\n",
    "\n",
    "\n",
    "#把一些多餘的字去除，方便後面換成float計算\n",
    "for key in ltc_dic.keys():\n",
    "    if key == 'formatted_buy_price':\n",
    "        ltc_dic[key] = ltc_dic[key].replace('N','').replace('T','').replace('$','').replace(',','')\n",
    "    if key == 'formatted_sell_price':\n",
    "        ltc_dic[key] = ltc_dic[key].replace('N','').replace('T','').replace('$','').replace(',','')\n",
    "\n",
    "\n",
    "for key in eth_dic.keys():\n",
    "    if key == 'formatted_buy_price':\n",
    "            eth_dic[key] = eth_dic[key].replace('N','').replace('T','').replace('$','').replace(',','')\n",
    "    if key == 'formatted_sell_price':\n",
    "            eth_dic[key] = eth_dic[key].replace('N','').replace('T','').replace('$','').replace(',','')\n",
    "\n",
    "\n",
    "    \n",
    "    \n",
    "\n",
    "print(\"LTC:\")\n",
    "print(\"買價: \" + ltc_dic['formatted_buy_price'] + \" twd\")\n",
    "print(\"賣價: \" + ltc_dic['formatted_sell_price'] + \" twd\")\n",
    "print(\"賺：\", float(ltc_dic['formatted_sell_price']) - 1758 , \"twd\")\n",
    "percentage = (float(ltc_dic['formatted_sell_price']) - 1758)/1758*100\n",
    "print(\"獲利率： \" , percentage ,\"%\" )\n",
    "\n",
    "print(\"ETH:\")\n",
    "print(\"買價: \" + eth_dic['formatted_buy_price'] + \" twd\")\n",
    "print(\"賣價: \" + eth_dic['formatted_sell_price'] + \" twd\")\n",
    "print(\"賺：\" , float(eth_dic['formatted_sell_price'])*1.23255902 - 8420 , \"twd\")\n",
    "print(\"賺：\" , float(eth_dic['formatted_sell_price'])*3.7679956 - 32000 , \"twd\")\n",
    "\n",
    "percentage = (float(eth_dic['formatted_sell_price'])*1.23255902 - 8420)/8420*100\n",
    "print(\"獲利率： \" , percentage ,\"%\" )\n",
    "    \n",
    "percentage = (float(eth_dic['formatted_sell_price'])*3.7679956 - 32000)/32000*100\n",
    "print(\"獲利率： \" , percentage ,\"%\" )\n"
   ]
  },
  {
   "cell_type": "markdown",
   "metadata": {},
   "source": [
    "## 匯率換算"
   ]
  },
  {
   "cell_type": "code",
   "execution_count": 3,
   "metadata": {
    "collapsed": true
   },
   "outputs": [],
   "source": [
    "\n",
    "def btcc():\n",
    "    a=input('請輸入要換算的比特幣金額：')\n",
    "    sellprice=float(btc_dic['sell_price'])\n",
    "    #判斷數字\n",
    "    #print(a)\n",
    "    if  a.replace('.', '', 1).isdigit():\n",
    "        count=float(a)\n",
    "        #print(count)\n",
    "        total=count*sellprice\n",
    "        #print(total)\n",
    "        print(\"相當於： \", total,\" 台幣\")\n",
    "    else:\n",
    "        print(\"請輸入數字＝＝\")\n",
    "        return btcc()\n",
    "        \n",
    "\n",
    "    "
   ]
  },
  {
   "cell_type": "markdown",
   "metadata": {},
   "source": [
    "# 獲利率"
   ]
  },
  {
   "cell_type": "code",
   "execution_count": 13,
   "metadata": {
    "collapsed": false
   },
   "outputs": [],
   "source": [
    "global balance_new\n",
    "global cost_new\n",
    "from ipywidgets import interact_manual\n",
    "def numbers() :\n",
    "    \n",
    "    balance=input(\"請輸入餘額：\")\n",
    "    cost=input(\"請輸入持有成本：\")\n",
    "    if balance.replace('.', '', 1).isdigit() and cost.replace('.', '', 1).isdigit():\n",
    "        \n",
    "        balance_new = float(balance)\n",
    "        cost_new = float(cost)\n",
    "        return balance_new,cost_new \n",
    "\n",
    "        \n",
    "    else:\n",
    "        print(\"請輸入數字= =\")\n",
    "        return numbers()\n"
   ]
  },
  {
   "cell_type": "code",
   "execution_count": 10,
   "metadata": {
    "collapsed": true
   },
   "outputs": [],
   "source": [
    " \n",
    "    \n",
    "def profit(currency,cost,balance_new):\n",
    "    cost\n",
    "    if currency =='eth':\n",
    "        total= balance_new*float(eth_dic['formatted_sell_price'])\n",
    "        print(\"共獲利： \", total-cost)\n",
    "        percentage = ((total-cost)/cost)*100\n",
    "        print(\"獲利率： \" , percentage ,\"%\" )\n",
    "        return new()\n",
    "    if currency =='btc':\n",
    "        total= balance_new*float(btc_dic['sell_price'])\n",
    "        print(\"共獲利： \", total-cost)\n",
    "        percentage = ((total-cost)/cost)*100\n",
    "        print(\"獲利率： \" , percentage ,\"%\" )\n",
    "        return new()\n",
    "    if currency =='ltc':\n",
    "        total= balance_new*float(ltc_dic['formatted_sell_price'])\n",
    "        print(\"共獲利： \", total-cost)\n",
    "        percentage = ((total-cost)/cost)*100\n",
    "        print(\"獲利率： \" , percentage ,\"%\" )\n",
    "        return new()\n",
    "    "
   ]
  },
  {
   "cell_type": "code",
   "execution_count": 15,
   "metadata": {
    "collapsed": false
   },
   "outputs": [
    {
     "name": "stdout",
     "output_type": "stream",
     "text": [
      "請輸入幣種（eth,ltc,btc），輸入 0 結束:asd\n",
      "wrong\n",
      "請輸入幣種（eth,ltc,btc），輸入 0 結束:eth\n",
      "請輸入餘額：1\n",
      "請輸入持有成本：1988\n",
      "共獲利：  9430.15003\n",
      "獲利率：  474.3536232394367 %\n",
      "請輸入幣種（eth,ltc,btc），輸入 0 結束:0\n",
      "88\n"
     ]
    }
   ],
   "source": [
    "def new():\n",
    "    currency=input(\"請輸入幣種（eth,ltc,btc），輸入 0 結束:\")\n",
    "    currency.lower()\n",
    "    \n",
    "    if currency == 'eth':\n",
    "        balance_new , cost_new = numbers()\n",
    "        profit(currency, cost_new , balance_new)\n",
    "    elif currency =='btc':\n",
    "        balance_new , cost_new = numbers()\n",
    "        profit(currency, cost_new , balance_new)\n",
    "    elif currency =='ltc':\n",
    "        balance_new , cost_new = numbers()\n",
    "        profit(currency, cost_new , balance_new)\n",
    "    elif currency == '0':\n",
    "        print('88')  \n",
    "    else:\n",
    "        print(\"wrong\")\n",
    "        return new()\n",
    "    \n",
    "#interact_manual(new , currency = [\"eth\" , \"ltc\" , \"btc\"])\n",
    "new()\n",
    "    "
   ]
  },
  {
   "cell_type": "markdown",
   "metadata": {},
   "source": [
    "# 參考資料\n",
    "\n",
    "1. [MAICOIN API Reference](http://developer.maicoin.com/)\n",
    "2. https://stackoverflow.com/questions/6260457/using-headers-with-the-python-requests-librarys-get-method\n",
    "3. https://stackoverflow.com/questions/19773669/python-dictionary-replace-values\n",
    "3. 特別感謝ptt版友 ch8154"
   ]
  }
 ],
 "metadata": {
  "kernelspec": {
   "display_name": "Python 3",
   "language": "python",
   "name": "python3"
  },
  "language_info": {
   "codemirror_mode": {
    "name": "ipython",
    "version": 3
   },
   "file_extension": ".py",
   "mimetype": "text/x-python",
   "name": "python",
   "nbconvert_exporter": "python",
   "pygments_lexer": "ipython3",
   "version": "3.5.2"
  }
 },
 "nbformat": 4,
 "nbformat_minor": 2
}
